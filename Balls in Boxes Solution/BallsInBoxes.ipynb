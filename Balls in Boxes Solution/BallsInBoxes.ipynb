{
  "nbformat": 4,
  "nbformat_minor": 0,
  "metadata": {
    "colab": {
      "name": "BallsInBoxes.ipynb",
      "provenance": [],
      "collapsed_sections": []
    },
    "kernelspec": {
      "name": "python3",
      "display_name": "Python 3"
    },
    "language_info": {
      "name": "python"
    }
  },
  "cells": [
    {
      "cell_type": "markdown",
      "source": [
        "**Le random balls Suppose that you have 12 identical balls and 3 empty boxes. You randomly put every ball into some box. What is the probability that none of the boxes have more than 6 balls?**"
      ],
      "metadata": {
        "id": "MktFRAg7uBdi"
      }
    },
    {
      "cell_type": "markdown",
      "source": [
        "# **Iterative Solution**\n"
      ],
      "metadata": {
        "id": "jaIIE4tKrh5h"
      }
    },
    {
      "cell_type": "code",
      "source": [
        "def waysOfBallsInBoxIterativeNoCache(numberOfBalls = 2, numberOfBoxes = 2, maxNumberOfBallsInABox = 1): #Cache takes up too much space\n",
        "  failSet = tuple([-1])\n",
        "  boxSets = {tuple([numberOfBoxes]):1} #{tuple([index = numb of balls | value = number of occurances in set]]):count of duplicates}\n",
        "  for ball in range(numberOfBalls):\n",
        "    newBoxSets = {}\n",
        "    for uniqueBoxSet, count in boxSets.items():  #could cache each uniqueBoxSet, but it would take longer and more space, the same boxsets dont occur frequently so its not needed \n",
        "      mostBallsInABox = len(uniqueBoxSet) - 1\n",
        "      if uniqueBoxSet == failSet:\n",
        "        newBoxSets[failSet] = newBoxSets.get(failSet, 0) + count * numberOfBoxes\n",
        "      else:\n",
        "        for numberOfBalls, numberOfSameBoxes in enumerate(uniqueBoxSet): \n",
        "          if numberOfSameBoxes == 0:\n",
        "            continue\n",
        "          elif numberOfBalls < mostBallsInABox: #Add ball to a box\n",
        "            newUniqueBoxSet = list(uniqueBoxSet)\n",
        "            newUniqueBoxSet[numberOfBalls] -= 1 # Added ball to box, so number of same boxes is decrease by 1\n",
        "            newUniqueBoxSet[numberOfBalls + 1] += 1 # Added ball to box with one less ball, so number of same boxes is increases by 1\n",
        "            uniqueTuple = tuple(newUniqueBoxSet)\n",
        "            newBoxSets[uniqueTuple] = newBoxSets.get(uniqueTuple, 0) + count * numberOfSameBoxes\n",
        "          elif numberOfBalls == maxNumberOfBallsInABox:\n",
        "            newBoxSets[failSet] = newBoxSets.get(failSet, 0) + count * numberOfSameBoxes\n",
        "          else:\n",
        "            newUniqueBoxSet = list(uniqueBoxSet)\n",
        "            newUniqueBoxSet[numberOfBalls] -= 1 # Added ball to box, so number of same boxes is decrease by 1\n",
        "            newUniqueBoxSet.append(1) # Added ball to box with one less ball, so number of same boxes is increases by 1\n",
        "            uniqueTuple = tuple(newUniqueBoxSet)\n",
        "            newBoxSets[uniqueTuple] = newBoxSets.get(uniqueTuple, 0) + count * numberOfSameBoxes\n",
        "    boxSets = newBoxSets\n",
        "  allTrials = 0\n",
        "  meetCondition = 0\n",
        "  for uniqueBoxSet, count in boxSets.items():\n",
        "    allTrials += count\n",
        "    if uniqueBoxSet != failSet:\n",
        "      meetCondition += count\n",
        "  print(f\"Suppose that you have {numberOfBalls} identical balls and {numberOfBoxes} empty boxes. You randomly put every ball into some box. What is the probability that none of the boxes have more than {maxNumberOfBallsInABox} balls?\")\n",
        "  print(f\"\\nThere is a {100 * meetCondition / allTrials}% probability that none of the boxes have more than {maxNumberOfBallsInABox} balls\")\n",
        "  return\n",
        "waysOfBallsInBoxIterativeNoCache(numberOfBalls = 12, numberOfBoxes = 3, maxNumberOfBallsInABox = 6)\n"
      ],
      "metadata": {
        "colab": {
          "base_uri": "https://localhost:8080/"
        },
        "id": "S9m4q3ZKpnEu",
        "outputId": "e00487fa-7b67-4070-b964-3911ee56f6da"
      },
      "execution_count": null,
      "outputs": [
        {
          "output_type": "stream",
          "name": "stdout",
          "text": [
            "Suppose that you have 6 identical balls and 3 empty boxes. You randomly put every ball into some box. What is the probability that none of the boxes have more than 6 balls?\n",
            "\n",
            "There is a 80.06570814069671% probability that none of the boxes have more than 6 balls\n"
          ]
        }
      ]
    },
    {
      "cell_type": "markdown",
      "source": [
        "Example of this solution:\n",
        "\n",
        "Suppose that you have 2 identical balls and 2 empty boxes. You randomly put every ball into some box. What is the probability that none of the boxes have more than 1 balls?\n",
        "\n",
        "                [0][0]\n",
        "                  ^\n",
        "            [1][0].  [0][1]   \n",
        "              ^.        ^\n",
        "      [2][0]. [1][1]. [1][1]. [0][2]\n",
        "\n",
        "P(11) = 0.5 P(20) = .25 P(02) = .25\n",
        "\n",
        "P(max number of balls is 1) = .5\n",
        "\n",
        "The order for the boxes does not matter. \n",
        "\n",
        "[0][0] can be rewritten as two boxes with 0 balls in it.\n",
        "\n",
        "We can use the 0 index to represent the number of balls.\n",
        "\n",
        "So this can just be written as:\n",
        "\n",
        "[2] (2 boxes with 0 balls)\n",
        "\n",
        "Similarly we can rewrite [1][0] as:\n",
        "[1, 1] (1 box with 0 balls, and 1 box with 1 ball)\n",
        "\n",
        "We can rewrite [1][0]. [0][1]  as:\n",
        "{[1, 1] : 2} {boxSet: count}\n",
        "\n",
        "2 * (1 box with 0 balls, and 1 box with 1 ball)\n",
        "\n",
        "Now lets look at an example with 2 balls:\n",
        "\n",
        "                 [2]\n",
        "                  ^\n",
        "            {[1, 1] : 2}\n",
        "                  ^. \n",
        "      {[1, 0, 1]:2} {[0, 2]:2}\n",
        "0 means 0 boxes have indexNumber balls \n",
        "\n",
        "1 means 1 boxes have indexNumber balls \n",
        "\n",
        "2 means 2 boxes have indexNumber balls \n",
        "\n",
        "The solution to the question above is 2/4 = .5. Look at the answer {[1, 0, 1]:2} {[0, 2]:2}.:\n",
        "\n",
        "{[1, 0, 1]:2} has 1 box with 0 balls and 1 box with 2 balls. There are 2 sets of [1, 0, 1]. {[0, 2]:2} has two boxes with 1 ball in it, and there are two sets of this. This gives us 2/4 = .5\n",
        "\n",
        "To calculate the this with a third ball we would iterate through the last row, then iterate through the list and calculate the new set for each index\n",
        "\n",
        "For example {[0, 2]:2}, 0 boxes with 0 balls so we skip that, 2 boxes with 1 ball so we add 1 ball to these boxes. Remove 1 from Index 1 because that box now has 2 balls. Add 1 to index 2 because a new box has 2 balls. We have 2 replicas of a boxset. The boxset has 2 replicas of 2 boxes with one ball. We need to add 2 balls to each of the two boxes for each of the two replicas, so we will now have 2*2=4 replicas. The end result for this index is {[0, 1, 1]:4}, This is shown to the bottom right below\n",
        "\n",
        "                           [2]\n",
        "                            |\n",
        "                       {[1, 1] : 2}\n",
        "                           ^. \n",
        "         {[1, 0, 1]:2}.            {[0, 2]:2}\n",
        "                ^.                      |.\n",
        "    {[0, 1, 1]:2}{[1, 0, 0, 1]:2}  {[0, 1, 1]:4}\n",
        "\n",
        "There a 3 box sets in the end result.\n",
        "\n",
        "First {[0, 1, 1]:2}, There are 2 occurrences of a box set with 1 box with 1 ball and 1 box with 2 balls\n",
        "\n",
        "Second {[1, 0, 0, 1]:2}, There are 2 occurrences of a box set with 1 box with 0 balls and 1 box with 3 balls\n",
        "\n",
        "Third {[0, 1, 1]:4}, There are 4 occurrences of a box set with 1 box with 1 ball and 1 box with 2 balls\n",
        "\n",
        "It's a bit confusing to grasp but this is how I got the solution above. \n",
        "\n",
        "Note you cannot do (outcomes that meet condition / outcomes), this would give you the incorrect answer: Possible outcomes for two balls and two boxes:\n",
        "\n",
        "[2][0], [0][2], [1][1]\n",
        "\n",
        "It would get an answer of 1/3 because it fails to take into account that P(11) != P(20)"
      ],
      "metadata": {
        "id": "o-4MENhwyujj"
      }
    },
    {
      "cell_type": "markdown",
      "source": [
        "# **Law of large numbers solution**"
      ],
      "metadata": {
        "id": "-nWx-JhQrau6"
      }
    },
    {
      "cell_type": "code",
      "source": [
        "import random\n",
        "\n",
        "#Random Simulation of 1,000,000 trials | Law of large numbers solution\n",
        "def waysOfBallsInBoxRandom(numberOfBalls = 2, numberOfBoxes = 2, maxNumberOfBallsInABox = 1, numberOfTrials = 1000000):\n",
        "  boxes = [0 for x in range(numberOfBoxes)]\n",
        "  lessBallsThanBoxes = True\n",
        "  maxBoxIndex = len(boxes) - 1\n",
        "  if numberOfBalls > maxBoxIndex:\n",
        "    lessBallsThanBoxes = False\n",
        "  meetCondition = 0\n",
        "  allTrials = 0\n",
        "  for trial in range(numberOfTrials):\n",
        "    allTrials += 1\n",
        "    meetCondtion = True\n",
        "    for puttingAllBallsInBoxesRandomly in range(numberOfBalls):\n",
        "      boxes[random.randint(0, maxBoxIndex)] += 1 #Add ball to random box index  \n",
        "    for boxIndex in range(len(boxes)):\n",
        "      if boxes[boxIndex] > maxNumberOfBallsInABox:\n",
        "        meetCondtion = False\n",
        "      boxes[boxIndex] = 0\n",
        "    if meetCondtion:\n",
        "      meetCondition += 1\n",
        "  print(f\"Suppose that you have {numberOfBalls} identical balls and {numberOfBoxes} empty boxes. You randomly put every ball into some box. What is the probability that none of the boxes have more than {maxNumberOfBallsInABox} balls?\")\n",
        "  print(f\"\\nAfter conducting {numberOfTrials} trials we found that the probability that none of the boxes have more than {maxNumberOfBallsInABox} balls is aproximatly {100 * meetCondition / allTrials}%\")\n",
        "  print(f\"As the number of Trials increases, the estimated probabiliy it likely to get closer to the true probabiliy\")\n",
        "waysOfBallsInBoxRandom(numberOfBalls = 12, numberOfBoxes = 3, maxNumberOfBallsInABox = 6, numberOfTrials = 1000000)\n"
      ],
      "metadata": {
        "colab": {
          "base_uri": "https://localhost:8080/"
        },
        "id": "qlpzHwwiQ_v6",
        "outputId": "e4cb9824-8d30-42b0-cdec-462c603d6954"
      },
      "execution_count": null,
      "outputs": [
        {
          "output_type": "stream",
          "name": "stdout",
          "text": [
            "Suppose that you have 12 identical balls and 3 empty boxes. You randomly put every ball into some box. What is the probability that none of the boxes have more than 6 balls?\n",
            "\n",
            "After conducting 1000000 trials we found that the probability that none of the boxes have more than 6 balls is aproximatly 80.0642%\n",
            "As the number of Trials increases, the estimated probabiliy it likely to get closer to the true probabiliy\n"
          ]
        }
      ]
    },
    {
      "cell_type": "markdown",
      "source": [
        "# **Incorrect implementation of Bars and Stars**"
      ],
      "metadata": {
        "id": "QCmhztjfrO0d"
      }
    },
    {
      "cell_type": "code",
      "source": [
        "from functools import lru_cache\n",
        "\n",
        "#Bars and Stars incorrect implimetation | All possible outcomes that meet conditoin / All possible outcomes = Wrong, Not all outcomes have the same probabiliy of happening\n",
        "def incorrectImplimentationOfBarsAndStars(numberOfBalls = 2, numberOfBoxes = 2, maxNumberOfBallsInABox = 1):\n",
        "  lru_cache(maxsize = None)\n",
        "  def putRemainingBallsInNextBox(numberOfBalls, numberOfBoxes, meetCondtion):\n",
        "    trialsThatMeetCondtion = 0\n",
        "    allTrials = 0\n",
        "    if numberOfBalls == 0:\n",
        "      if meetCondtion:\n",
        "        return (1, 1)\n",
        "      else:\n",
        "        return (0, 1)\n",
        "    elif numberOfBoxes == 0:\n",
        "      return (0, 0)\n",
        "    for numberOfBallsInBoxX in range(numberOfBalls + 1):\n",
        "      if numberOfBallsInBoxX > maxNumberOfBallsInABox:\n",
        "        tempTrialsThatMeetCondition, tempAllTrials = putRemainingBallsInNextBox(numberOfBalls - numberOfBallsInBoxX, numberOfBoxes - 1, False)\n",
        "        trialsThatMeetCondtion += tempTrialsThatMeetCondition\n",
        "        allTrials += tempAllTrials\n",
        "      else:\n",
        "        tempTrialsThatMeetCondition, tempAllTrials = putRemainingBallsInNextBox(numberOfBalls - numberOfBallsInBoxX, numberOfBoxes - 1, meetCondtion)\n",
        "        trialsThatMeetCondtion += tempTrialsThatMeetCondition\n",
        "        allTrials += tempAllTrials\n",
        "    return (trialsThatMeetCondtion , allTrials)\n",
        "  trialsThatMeetCondition, allTrials = putRemainingBallsInNextBox(numberOfBalls, numberOfBoxes, True)\n",
        "  print(\"\\nThe problem with this method is it assumed all possible outcomes have the same probability of happening\")\n",
        "  print(\"\\nBut this method is incorrect because not all outcomes have the same probability of happening\")\n",
        "  print(f\"\\nAll possible outcomes that meet conditoin / all possible outcomes = {100 * trialsThatMeetCondition / allTrials}% != probability that none of the boxes will have more than {maxNumberOfBallsInABox} balls\")\n",
        "  print(\"\\nNote: All possible outcomes that meet conditoin / all possible outcomes != Number of ways balls can be put in boxes that meet condition / Number of ways balls can be put in boxes\")\n",
        "  return\n",
        "incorrectImplimentationOfBarsAndStars(numberOfBalls = 12, numberOfBoxes = 3, maxNumberOfBallsInABox = 6)\n"
      ],
      "metadata": {
        "colab": {
          "base_uri": "https://localhost:8080/"
        },
        "id": "KiamJaurSa1T",
        "outputId": "1aa38054-8027-4cc9-bd4c-f275d189a481"
      },
      "execution_count": null,
      "outputs": [
        {
          "output_type": "stream",
          "name": "stdout",
          "text": [
            "\n",
            "The problem with this method is it assumed all possible outcomes have the same probability of happening\n",
            "\n",
            "But this method is incorrect because not all outcomes have the same probability of happening\n",
            "\n",
            "All possible outcomes that meet conditoin / all possible outcomes = 30.76923076923077% != probability that none of the boxes will have more than 6 balls\n",
            "\n",
            "Note: All possible outcomes that meet conditoin / all possible outcomes != Number of ways balls can be put in boxes that meet condition / Number of ways balls can be put in boxes\n"
          ]
        }
      ]
    },
    {
      "cell_type": "markdown",
      "source": [
        "# **Other Less Space Efficient Ways to Solve:**"
      ],
      "metadata": {
        "id": "WxJtOBtdq-kI"
      }
    },
    {
      "cell_type": "code",
      "execution_count": null,
      "metadata": {
        "colab": {
          "base_uri": "https://localhost:8080/"
        },
        "id": "Amkojh--vhR_",
        "outputId": "01ae771d-a473-4eeb-ea2e-f81fe4dde7eb"
      },
      "outputs": [
        {
          "output_type": "stream",
          "name": "stdout",
          "text": [
            "Suppose that you have 12 identical balls and 3 empty boxes. You randomly put every ball into some box. What is the probability that none of the boxes have more than 6 balls?\n",
            "\n",
            "There is a 80.06570814069671% probability that none of the boxes have more than 6 balls\n"
          ]
        }
      ],
      "source": [
        "from functools import lru_cache \n",
        "\n",
        "#Number of ways balls can be put in boxes that meet condition / Number of ways balls can be put in boxes\n",
        "def waysOfBallsInBoxRecursive(numberOfBalls = 2, numberOfBoxes = 2, maxNumberOfBallsInABox = 1): #limited by call stack size\n",
        "  @lru_cache(maxsize = None) \n",
        "  def waysWithBallsLeft(numberOfBalls, numberOfBoxes, boxesCache):\n",
        "    meetCondition = 0\n",
        "    allTrials = 0\n",
        "    if numberOfBalls == 0:\n",
        "      for box in boxes:\n",
        "        if box > maxNumberOfBallsInABox:\n",
        "          return (0, 1)\n",
        "      return (1, 1)\n",
        "    for boxNumber in range(numberOfBoxes):\n",
        "      boxes[boxNumber] += 1 #Add ball to box at index boxNumber\n",
        "      if boxes[boxNumber] > maxNumberOfBallsInABox or boxesCache == (float(\"inf\")):\n",
        "        trialsThatMetCondition, totalTrials = waysWithBallsLeft(numberOfBalls - 1, numberOfBoxes, tuple([float(\"inf\")])) #Cache prev boxes as fail\n",
        "      else:\n",
        "        trialsThatMetCondition, totalTrials = waysWithBallsLeft(numberOfBalls - 1, numberOfBoxes, tuple(sorted(boxes))) #Sorting the boxes makes the cache more efficient \n",
        "      meetCondition += trialsThatMetCondition\n",
        "      allTrials += totalTrials\n",
        "      boxes[boxNumber] -= 1 #Remove ball from box at index boxNumber\n",
        "    return (meetCondition, allTrials)\n",
        "  meetCondition = 0\n",
        "  allTrials = 0\n",
        "  boxes = [0 for x in range(numberOfBoxes)]\n",
        "  trialsThatMetCondition, totalTrials = waysWithBallsLeft(numberOfBalls, numberOfBoxes, tuple(boxes))\n",
        "  print(f\"Suppose that you have {numberOfBalls} identical balls and {numberOfBoxes} empty boxes. You randomly put every ball into some box. What is the probability that none of the boxes have more than {maxNumberOfBallsInABox} balls?\")\n",
        "  print(f\"\\nThere is a {100 * trialsThatMetCondition / totalTrials}% probability that none of the boxes have more than {maxNumberOfBallsInABox} balls\")\n",
        "  return\n",
        "waysOfBallsInBoxRecursive(numberOfBalls = 12, numberOfBoxes = 3, maxNumberOfBallsInABox = 6)\n"
      ]
    },
    {
      "cell_type": "markdown",
      "source": [
        "This function was limited by the call stack, so I wrote an iterative one. "
      ],
      "metadata": {
        "id": "mU0xokKrvOZB"
      }
    },
    {
      "cell_type": "code",
      "source": [
        "def waysOfBallsInBoxIterative(numberOfBalls = 2, numberOfBoxes = 2, maxNumberOfBallsInABox = 1): #limited by cache stack size, takes up too much space\n",
        "  uniqueBoxCache = {}\n",
        "  failSet = tuple([-1])\n",
        "  boxSets = {tuple([numberOfBoxes]):1} #{tuple([index = numb of balls | value = number of occurances in set]]):count of duplicates}\n",
        "  for ball in range(numberOfBalls):\n",
        "    newBoxSets = {}\n",
        "    for uniqueBoxSet, count in boxSets.items(): \n",
        "      if uniqueBoxSet in uniqueBoxCache:\n",
        "        for boxSet, singleCount in uniqueBoxCache[(uniqueBoxSet)]:\n",
        "          newBoxSets[boxSet] = newBoxSets.get(boxSet, 0) + count * singleCount\n",
        "        continue\n",
        "      cacheBoxSets = {}\n",
        "      mostBallsInABox = len(uniqueBoxSet) - 1\n",
        "      if uniqueBoxSet == failSet:\n",
        "        newBoxSets[failSet] = newBoxSets.get(failSet, 0) + count * numberOfBoxes\n",
        "      else:\n",
        "        for numberOfBalls, numberOfSameBoxes in enumerate(uniqueBoxSet): #cache uniqueBoxSet\n",
        "          if numberOfSameBoxes == 0:\n",
        "            continue\n",
        "          elif numberOfBalls < mostBallsInABox: #Add ball to a box\n",
        "            newUniqueBoxSet = list(uniqueBoxSet)\n",
        "            newUniqueBoxSet[numberOfBalls] -= 1 # Added ball to box, so number of same boxes is decrease by 1\n",
        "            newUniqueBoxSet[numberOfBalls + 1] += 1 # Added ball to box with one less ball, so number of same boxes is increases by 1\n",
        "            uniqueTuple = tuple(newUniqueBoxSet)\n",
        "            newBoxSets[uniqueTuple] = newBoxSets.get(uniqueTuple, 0) + count * numberOfSameBoxes\n",
        "            cacheBoxSets[uniqueTuple] = cacheBoxSets.get(uniqueTuple, 0) + numberOfSameBoxes\n",
        "          elif numberOfBalls == maxNumberOfBallsInABox:\n",
        "            newBoxSets[failSet] = newBoxSets.get(failSet, 0) + count * numberOfSameBoxes\n",
        "            cacheBoxSets[failSet] = cacheBoxSets.get(failSet, 0) + numberOfSameBoxes\n",
        "          else:\n",
        "            newUniqueBoxSet = list(uniqueBoxSet)\n",
        "            newUniqueBoxSet[numberOfBalls] -= 1 # Added ball to box, so number of same boxes is decrease by 1\n",
        "            newUniqueBoxSet.append(1) # Added ball to box with one less ball, so number of same boxes is increases by 1\n",
        "            uniqueTuple = tuple(newUniqueBoxSet)\n",
        "            newBoxSets[uniqueTuple] = newBoxSets.get(uniqueTuple, 0) + count * numberOfSameBoxes\n",
        "            cacheBoxSets[uniqueTuple] = cacheBoxSets.get(uniqueTuple, 0) + numberOfSameBoxes\n",
        "        uniqueBoxCache[uniqueBoxSet] = cacheBoxSets\n",
        "    boxSets = newBoxSets\n",
        "  allTrials = 0\n",
        "  meetCondition = 0\n",
        "  for uniqueBoxSet, count in boxSets.items():\n",
        "    allTrials += count\n",
        "    if uniqueBoxSet != failSet:\n",
        "      meetCondition += count\n",
        "  print(f\"Suppose that you have {numberOfBalls} identical balls and {numberOfBoxes} empty boxes. You randomly put every ball into some box. What is the probability that none of the boxes have more than {maxNumberOfBallsInABox} balls?\")\n",
        "  print(f\"\\nThere is a {100 * meetCondition / allTrials}% probability that none of the boxes have more than {maxNumberOfBallsInABox} balls\")\n",
        "  return\n",
        "waysOfBallsInBoxIterative(numberOfBalls = 12, numberOfBoxes = 3, maxNumberOfBallsInABox = 6)\n"
      ],
      "metadata": {
        "colab": {
          "base_uri": "https://localhost:8080/"
        },
        "id": "vAaCLh_4vaNy",
        "outputId": "959502aa-9e43-4f3c-98da-1f75e49af1ef"
      },
      "execution_count": null,
      "outputs": [
        {
          "output_type": "stream",
          "name": "stdout",
          "text": [
            "Suppose that you have 6 identical balls and 3 empty boxes. You randomly put every ball into some box. What is the probability that none of the boxes have more than 6 balls?\n",
            "\n",
            "There is a 80.06570814069671% probability that none of the boxes have more than 6 balls\n"
          ]
        }
      ]
    },
    {
      "cell_type": "markdown",
      "source": [
        "# **Follow up Question:**"
      ],
      "metadata": {
        "id": "zfrLCRdSpNAF"
      }
    },
    {
      "cell_type": "markdown",
      "source": [
        "**Suppose that you want to arrange 2000 balls into 100 boxes, but with the caveat that each box must have at least 10 balls. Suppose that we randomly distributed all the balls into the boxes. What is the probability that this random arrangement satisfies our original constraint?**"
      ],
      "metadata": {
        "id": "ynDd1eq12MmN"
      }
    },
    {
      "cell_type": "markdown",
      "source": [
        "This question would take too long to solve iteratively so we will use the law of large numbers to aproximate the solution."
      ],
      "metadata": {
        "id": "-xkfuIQDpXH_"
      }
    },
    {
      "cell_type": "code",
      "source": [
        "import random\n",
        "\n",
        "#Random Simulation of 10,000 trials | Law of large numbers solution\n",
        "def waysOfBallsInBoxRandomMINIMUM(numberOfBalls = 2, numberOfBoxes = 2, minNumberOfBallsInABox = 1, numberOfTrials = 1000000):\n",
        "  boxes = [0 for x in range(numberOfBoxes)]\n",
        "  lessBallsThanBoxes = True\n",
        "  maxBoxIndex = len(boxes) - 1\n",
        "  if numberOfBalls > maxBoxIndex:\n",
        "    lessBallsThanBoxes = False\n",
        "  meetCondition = 0\n",
        "  allTrials = 0\n",
        "  for trial in range(numberOfTrials):\n",
        "    allTrials += 1\n",
        "    meetCondtion = True\n",
        "    for puttingAllBallsInBoxesRandomly in range(numberOfBalls):\n",
        "      boxes[random.randint(0, maxBoxIndex)] += 1 #Add ball to random box index  \n",
        "    for boxIndex in range(len(boxes)):\n",
        "      if boxes[boxIndex] < minNumberOfBallsInABox:\n",
        "        meetCondtion = False\n",
        "      boxes[boxIndex] = 0\n",
        "    if meetCondtion:\n",
        "      meetCondition += 1\n",
        "  print(f\"Suppose that you want to arrange {numberOfBalls} balls into {numberOfBoxes} boxes, but with the caveat that each box must have at least {minNumberOfBallsInABox} balls. Suppose that we randomly distributed all the balls into the boxes. What is the probability that this random arrangement satisfies our original constraint?\")\n",
        "  print(f\"\\nAfter conducting {numberOfTrials} trials we found that the probability that none of the boxes have less than {minNumberOfBallsInABox} balls is aproximatly {100 * meetCondition / allTrials}%\")\n",
        "  print(f\"As the number of Trials increases, the estimated probabiliy it likely to get closer to the true probabiliy\")\n",
        "waysOfBallsInBoxRandomMINIMUM(numberOfBalls = 2000, numberOfBoxes = 100, minNumberOfBallsInABox = 10, numberOfTrials = 10000)\n"
      ],
      "metadata": {
        "colab": {
          "base_uri": "https://localhost:8080/"
        },
        "id": "dOAKhzMNpSJc",
        "outputId": "cb94862f-44eb-4f33-8ff9-0fb7f71df1a1"
      },
      "execution_count": 18,
      "outputs": [
        {
          "output_type": "stream",
          "name": "stdout",
          "text": [
            "Suppose that you want to arrange 2000 balls into 100 boxes, but with the caveat that each box must have at least 10 balls. Suppose that we randomly distributed all the balls into the boxes. What is the probability that this random arrangement satisfies our original constraint?\n",
            "\n",
            "After conducting 10000 trials we found that the probability that none of the boxes have less than 10 balls is aproximatly 60.09%\n",
            "As the number of Trials increases, the estimated probabiliy it likely to get closer to the true probabiliy\n"
          ]
        }
      ]
    }
  ]
}